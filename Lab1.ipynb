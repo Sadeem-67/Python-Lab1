{
 "cells": [
  {
   "cell_type": "markdown",
   "id": "b860c911-4e82-4607-b4fb-b49beaf694e8",
   "metadata": {},
   "source": [
    "- Define a variable that has a value of your favorite season."
   ]
  },
  {
   "cell_type": "code",
   "execution_count": 1,
   "id": "47e78f41-f11d-4406-9f4b-cc4e41a4fde6",
   "metadata": {},
   "outputs": [],
   "source": [
    "favorite_season = \"winter\""
   ]
  },
  {
   "cell_type": "markdown",
   "id": "56aaa254-8201-47e2-a84c-54968d761256",
   "metadata": {},
   "source": [
    "- Define “x“ variable has an integer value and variable “y” has a float value."
   ]
  },
  {
   "cell_type": "code",
   "execution_count": 2,
   "id": "b5589e9c-daec-4f88-8e10-10040347b6e9",
   "metadata": {},
   "outputs": [],
   "source": [
    "x = 3 \n",
    "y = 3.3"
   ]
  },
  {
   "cell_type": "markdown",
   "id": "fbed7e33-9fae-49e9-a5d8-fc366851b73b",
   "metadata": {},
   "source": [
    "- Assign One Value to Multiple Variables."
   ]
  },
  {
   "cell_type": "code",
   "execution_count": 5,
   "id": "2a18057f-dc63-4928-9e53-67420063e2e5",
   "metadata": {},
   "outputs": [],
   "source": [
    "x = y = z = 44"
   ]
  },
  {
   "cell_type": "code",
   "execution_count": 6,
   "id": "1c611eb9-28c2-4ddb-b6c4-cdb98b26551a",
   "metadata": {},
   "outputs": [
    {
     "name": "stdout",
     "output_type": "stream",
     "text": [
      "44 44 44\n"
     ]
    }
   ],
   "source": [
    "print(x,y,z)"
   ]
  },
  {
   "cell_type": "markdown",
   "id": "931f1c29-ff09-4384-8b0d-3c51db3b03c1",
   "metadata": {},
   "source": [
    "- Assign Many Values to Multiple Variables."
   ]
  },
  {
   "cell_type": "code",
   "execution_count": 11,
   "id": "d691abaf-c086-44ae-ae94-d3201fe25a86",
   "metadata": {},
   "outputs": [],
   "source": [
    "x , y , z = 44 , 55 , 66"
   ]
  },
  {
   "cell_type": "code",
   "execution_count": 13,
   "id": "e24a5ea6-3917-499c-b767-c4707a93e4c5",
   "metadata": {},
   "outputs": [
    {
     "name": "stdout",
     "output_type": "stream",
     "text": [
      "44 55 66\n"
     ]
    }
   ],
   "source": [
    "print(x,y,z)"
   ]
  }
 ],
 "metadata": {
  "kernelspec": {
   "display_name": "Python 3 (ipykernel)",
   "language": "python",
   "name": "python3"
  },
  "language_info": {
   "codemirror_mode": {
    "name": "ipython",
    "version": 3
   },
   "file_extension": ".py",
   "mimetype": "text/x-python",
   "name": "python",
   "nbconvert_exporter": "python",
   "pygments_lexer": "ipython3",
   "version": "3.9.13"
  }
 },
 "nbformat": 4,
 "nbformat_minor": 5
}
